{
 "cells": [
  {
   "cell_type": "markdown",
   "metadata": {},
   "source": [
    "## Import libraries"
   ]
  },
  {
   "cell_type": "code",
   "execution_count": 1,
   "metadata": {},
   "outputs": [
    {
     "name": "stderr",
     "output_type": "stream",
     "text": [
      "Using TensorFlow backend.\n"
     ]
    }
   ],
   "source": [
    "import numpy as np\n",
    "from keras.models import Model, load_model\n",
    "from keras.layers import Flatten, Dense, Lambda\n",
    "from keras.applications.inception_v3 import InceptionV3\n",
    "from keras.optimizers import Adam\n",
    "from keras.preprocessing import image"
   ]
  },
  {
   "cell_type": "markdown",
   "metadata": {},
   "source": [
    "## Set variables"
   ]
  },
  {
   "cell_type": "code",
   "execution_count": 2,
   "metadata": {},
   "outputs": [],
   "source": [
    "gen = image.ImageDataGenerator()\n",
    "batch_size = 64 # was 64"
   ]
  },
  {
   "cell_type": "markdown",
   "metadata": {},
   "source": [
    "## Import data"
   ]
  },
  {
   "cell_type": "code",
   "execution_count": 3,
   "metadata": {},
   "outputs": [
    {
     "name": "stdout",
     "output_type": "stream",
     "text": [
      "Found 64000 images belonging to 7 classes.\n"
     ]
    }
   ],
   "source": [
    "batches = gen.flow_from_directory('task3_data_mega/train',\n",
    "                                  target_size=(299,299),\n",
    "                                  class_mode='categorical',\n",
    "                                  shuffle=True,\n",
    "                                  batch_size=batch_size)"
   ]
  },
  {
   "cell_type": "code",
   "execution_count": 4,
   "metadata": {},
   "outputs": [
    {
     "name": "stdout",
     "output_type": "stream",
     "text": [
      "Found 16000 images belonging to 7 classes.\n"
     ]
    }
   ],
   "source": [
    "val_batches = gen.flow_from_directory('task3_data_mega/valid',\n",
    "                                      target_size=(299,299),\n",
    "                                      class_mode='categorical',\n",
    "                                      shuffle=True,\n",
    "                                      batch_size=batch_size)"
   ]
  },
  {
   "cell_type": "markdown",
   "metadata": {},
   "source": [
    "## Import, configure, and compile model"
   ]
  },
  {
   "cell_type": "code",
   "execution_count": 5,
   "metadata": {},
   "outputs": [],
   "source": [
    "# retrieve the full Keras Inception V3 model including imagenet weights\n",
    "IV3 = InceptionV3(include_top=True, weights='imagenet',\n",
    "                               input_tensor=None, input_shape=(299,299,3), pooling=None)\n",
    "\n",
    "# define a new output layer to connect with the last fc layer\n",
    "x = IV3.layers[-2].output\n",
    "output_layer = Dense(7, activation='softmax', name='predictions')(x)\n",
    "\n",
    "# combine the original model with the new output layer\n",
    "IV3_2 = Model(inputs=IV3.input, outputs=output_layer)\n",
    "\n",
    "# compile the new model\n",
    "IV3_2.compile(optimizer=Adam(lr=0.0001), # was 0.0001\n",
    "                loss='categorical_crossentropy', metrics=['accuracy'])"
   ]
  },
  {
   "cell_type": "markdown",
   "metadata": {},
   "source": [
    "## Train 80K images"
   ]
  },
  {
   "cell_type": "code",
   "execution_count": 6,
   "metadata": {},
   "outputs": [
    {
     "name": "stdout",
     "output_type": "stream",
     "text": [
      "Epoch 1/1\n",
      "1125/1125 [==============================] - 685s 609ms/step - loss: 0.3675 - acc: 0.8669 - val_loss: 0.2256 - val_acc: 0.9134\n"
     ]
    },
    {
     "data": {
      "text/plain": [
       "<keras.callbacks.History at 0x7f1b9212aba8>"
      ]
     },
     "execution_count": 6,
     "metadata": {},
     "output_type": "execute_result"
    }
   ],
   "source": [
    "# 80K samples / 0.00008 LR\n",
    "IV3_2.fit_generator(batches,\n",
    "                   steps_per_epoch = batches.samples // batch_size,\n",
    "                   validation_data = val_batches, \n",
    "                   validation_steps = val_batches.samples // batch_size,\n",
    "                   epochs = 1)"
   ]
  },
  {
   "cell_type": "code",
   "execution_count": 7,
   "metadata": {},
   "outputs": [
    {
     "name": "stdout",
     "output_type": "stream",
     "text": [
      "Epoch 1/1\n",
      "1125/1125 [==============================] - 671s 597ms/step - loss: 0.0915 - acc: 0.9679 - val_loss: 0.0902 - val_acc: 0.9660\n"
     ]
    },
    {
     "data": {
      "text/plain": [
       "<keras.callbacks.History at 0x7f1b9216c668>"
      ]
     },
     "execution_count": 7,
     "metadata": {},
     "output_type": "execute_result"
    }
   ],
   "source": [
    "# 80K samples / 0.00008 LR BEST MODEL SO FAR\n",
    "IV3_2.fit_generator(batches,\n",
    "                   steps_per_epoch = batches.samples // batch_size,\n",
    "                   validation_data = val_batches, \n",
    "                   validation_steps = val_batches.samples // batch_size,\n",
    "                   epochs = 1)"
   ]
  },
  {
   "cell_type": "code",
   "execution_count": 8,
   "metadata": {},
   "outputs": [],
   "source": [
    "IV3_2.save('task3_models/iv3_80K.h5')"
   ]
  },
  {
   "cell_type": "code",
   "execution_count": null,
   "metadata": {},
   "outputs": [],
   "source": []
  },
  {
   "cell_type": "code",
   "execution_count": null,
   "metadata": {},
   "outputs": [],
   "source": []
  },
  {
   "cell_type": "markdown",
   "metadata": {},
   "source": [
    "## Test 80K images"
   ]
  },
  {
   "cell_type": "code",
   "execution_count": 8,
   "metadata": {},
   "outputs": [],
   "source": [
    "IV3_2 = load_model('task3_models/iv3_80K.h5')"
   ]
  },
  {
   "cell_type": "code",
   "execution_count": 9,
   "metadata": {},
   "outputs": [
    {
     "name": "stdout",
     "output_type": "stream",
     "text": [
      "Found 12096 images belonging to 1 classes.\n"
     ]
    }
   ],
   "source": [
    "test = gen.flow_from_directory('task3_data_mega/test_final_big',\n",
    "                                target_size=(299,299),\n",
    "                                class_mode='categorical',\n",
    "                                shuffle=False,\n",
    "                                batch_size=batch_size)"
   ]
  },
  {
   "cell_type": "code",
   "execution_count": 10,
   "metadata": {},
   "outputs": [],
   "source": [
    "f_names = np.array(test.filenames)\n",
    "predictions = np.array(IV3_2.predict_generator(test))\n",
    "iv3_predictions = np.column_stack((f_names, predictions))\n",
    "np.savetxt(\"iv3_predictions_final_big.csv\", iv3_predictions, delimiter=\",\", fmt=\"%s\")"
   ]
  },
  {
   "cell_type": "code",
   "execution_count": null,
   "metadata": {},
   "outputs": [],
   "source": []
  },
  {
   "cell_type": "code",
   "execution_count": null,
   "metadata": {},
   "outputs": [],
   "source": []
  }
 ],
 "metadata": {
  "kernelspec": {
   "display_name": "Python 3",
   "language": "python",
   "name": "python3"
  },
  "language_info": {
   "codemirror_mode": {
    "name": "ipython",
    "version": 3
   },
   "file_extension": ".py",
   "mimetype": "text/x-python",
   "name": "python",
   "nbconvert_exporter": "python",
   "pygments_lexer": "ipython3",
   "version": "3.6.3"
  }
 },
 "nbformat": 4,
 "nbformat_minor": 2
}
